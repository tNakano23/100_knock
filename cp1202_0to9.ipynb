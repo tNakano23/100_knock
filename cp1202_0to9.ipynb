{
  "nbformat": 4,
  "nbformat_minor": 0,
  "metadata": {
    "colab": {
      "provenance": []
    },
    "kernelspec": {
      "name": "python3",
      "display_name": "Python 3"
    },
    "language_info": {
      "name": "python"
    }
  },
  "cells": [
    {
      "cell_type": "code",
      "execution_count": null,
      "metadata": {
        "colab": {
          "base_uri": "https://localhost:8080/"
        },
        "id": "jiWlmBTBFaL-",
        "outputId": "513d8275-0ce4-460b-91e5-1bf33dcc5ea9"
      },
      "outputs": [
        {
          "output_type": "stream",
          "name": "stdout",
          "text": [
            "stressed\n",
            "desserts\n"
          ]
        }
      ],
      "source": [
        "#0\n",
        "s = \"stressed\"\n",
        "print(s[::])\n",
        "print(s[::-1])"
      ]
    },
    {
      "cell_type": "markdown",
      "source": [],
      "metadata": {
        "id": "7DFecUKFG1dS"
      }
    },
    {
      "cell_type": "code",
      "source": [
        "#1\n",
        "p = \"パタトクカシーー\"\n",
        "# [start:stop:step]でスライスを指定し\n",
        "print(p[::2])\n",
        "print(p[1::2])\n",
        "\n",
        "#2\n",
        "s = \"パトカー\"\n",
        "t = \"タクシー\"\n",
        "for si,ti in zip(s,t):\n",
        "  print(si+ti,end=\"\")\n",
        "print(\"\\n\")\n",
        "\n",
        "#3\n",
        "s3=\"Now I need a drink, alcoholic of course, after the heavy lectures involving quantum mechanics.\"\n",
        "s3_list = s3.split()\n",
        "print(s3_list)\n",
        "for item in s3_list:\n",
        "  print(len(item),end=\"\")\n",
        "print(\"\\n\")\n",
        "\n",
        "\n",
        "#4\n",
        "s4 =\"Hi He Lied Because Boron Could Not Oxidize Fluorine. New Nations Might Also Sign Peace Security Clause. Arthur King Can.\"\n",
        "s4_list = s4.split()\n",
        "s4_list_ex = []\n",
        "for i,item in enumerate(s4_list):\n",
        "  # if i in [1,5,6,7,8,9,15,16,19]:\n",
        "  if i in [0,4,5,6,7,8,14,15,18]:\n",
        "    s4_list_ex.append(item[:1])\n",
        "  else:\n",
        "    s4_list_ex.append(item[:2])\n",
        "s4_list_gx = {item: index+1 for index, item in enumerate(s4_list_ex)}\n",
        "print(s4_list_gx)\n",
        "print(\"\\n\")\n",
        "\n"
      ],
      "metadata": {
        "colab": {
          "base_uri": "https://localhost:8080/"
        },
        "id": "brSbX6TsG2uR",
        "outputId": "ccf7ac98-d474-4363-f7d9-dce4ccc6dd99"
      },
      "execution_count": null,
      "outputs": [
        {
          "output_type": "stream",
          "name": "stdout",
          "text": [
            "パトカー\n",
            "タクシー\n",
            "パタトクカシーー\n",
            "\n",
            "['Now', 'I', 'need', 'a', 'drink,', 'alcoholic', 'of', 'course,', 'after', 'the', 'heavy', 'lectures', 'involving', 'quantum', 'mechanics.']\n",
            "3141692753589710\n",
            "\n",
            "{'H': 1, 'He': 2, 'Li': 3, 'Be': 4, 'B': 5, 'C': 6, 'N': 7, 'O': 8, 'F': 9, 'Ne': 10, 'Na': 11, 'Mi': 12, 'Al': 13, 'Si': 14, 'P': 15, 'S': 16, 'Cl': 17, 'Ar': 18, 'K': 19, 'Ca': 20}\n",
            "\n",
            "\n",
            "['I ', ' a', 'am', 'm ', ' a', 'an', 'n ', ' N', 'NL', 'LP', 'Pe', 'er']\n",
            "[['I', 'am'], ['am', 'an'], ['an', 'NLPer']]\n"
          ]
        }
      ]
    },
    {
      "cell_type": "code",
      "source": [
        "#5\n",
        "s5 = \"I am an NLPer\"\n",
        "\n",
        "def n_gram(target, n):\n",
        "  return [ target[index:index + n] for index in range(len(target) - n + 1)]\n",
        "\n",
        "target = \"I am an NLPer\"\n",
        "words = target.split(' ')\n",
        "print(n_gram(target, 2))\n",
        "print(n_gram(words, 2))\n",
        "\n",
        "# print(n_gram(target, 1))\n",
        "# print(n_gram(target, 3))\n",
        "\n",
        "# print(n_gram(words, 1))\n",
        "# print(n_gram(words, 3))\n",
        "print(\"\\n\")\n",
        "\n",
        "\n",
        "\n",
        "#6\n",
        "s71 = \"paraparaparadise\"\n",
        "s72 = \"paragraph\"\n",
        "\n",
        "X = n_gram(s71, 2)\n",
        "Y = n_gram(s72, 2)\n",
        "\n",
        "# print(X,Y)\n",
        "print(\"和集合\")\n",
        "print(set(X)|set(Y)) #和集合\n",
        "print(\"積集合\")\n",
        "print(set(X)&set(Y)) #積集合\n",
        "print(\"差集合\")\n",
        "print(set(X)-set(Y)) #積集合\n",
        "\n",
        "if \"se\" in (set(X)|set(Y)):\n",
        "  print(\"yes\")\n",
        "else:\n",
        "  print(\"no\")\n",
        "print(\"\\n\")\n",
        "\n",
        "\n",
        "#7\n",
        "def p07(x,y,z):\n",
        "  result = f\"{x}時の{y}は{z}\"\n",
        "  return result\n",
        "\n",
        "print(p07(12, \"気温\", 22.4))\n",
        "print(\"\\n\")\n",
        "\n",
        "\n",
        "#08\n",
        "def cipher(str):\n",
        "  result = \"\"\n",
        "  for i in str:\n",
        "    if 'a' <= i <= 'z':\n",
        "      char = chr(216 - ord(i))\n",
        "    else:\n",
        "      char = i\n",
        "    result+=char\n",
        "  return result\n",
        "\n",
        "print(cipher(\"abcABC\"))\n",
        "print(cipher(\"wvuABC\"))\n",
        "print(\"\\n\")\n",
        "\n",
        "\n",
        "\n",
        "#09\n",
        "import random\n",
        "def p09(str):\n",
        "  str_list = str.split()\n",
        "  new_texts = []\n",
        "  for i in str_list:\n",
        "    if len(i) <= 4:\n",
        "      new_str = i\n",
        "    else:\n",
        "      body = i[1:-1]\n",
        "      new_str = i[0] + \"\".join(random.sample(body, len(body))) + i[-1]\n",
        "    new_texts.append(new_str)\n",
        "  new_texts = \" \".join(new_texts)\n",
        "  return(new_texts)\n",
        "\n",
        "s9 = \"I couldn’t believe that I could actually understand what I was reading : the phenomenal power of the human mind .\"\n",
        "print(p09(s9))\n",
        "print(\"\\n\")"
      ],
      "metadata": {
        "colab": {
          "base_uri": "https://localhost:8080/"
        },
        "id": "jJd-lVlnjYcd",
        "outputId": "b5aff76d-0ceb-49a2-e166-74b6603762c6"
      },
      "execution_count": null,
      "outputs": [
        {
          "output_type": "stream",
          "name": "stdout",
          "text": [
            "['I ', ' a', 'am', 'm ', ' a', 'an', 'n ', ' N', 'NL', 'LP', 'Pe', 'er']\n",
            "[['I', 'am'], ['am', 'an'], ['an', 'NLPer']]\n",
            "\n",
            "\n",
            "和集合\n",
            "{'se', 'is', 'ap', 'ar', 'ph', 'ag', 'gr', 'di', 'pa', 'ra', 'ad'}\n",
            "積集合\n",
            "{'ap', 'ar', 'ra', 'pa'}\n",
            "差集合\n",
            "{'se', 'is', 'di', 'ad'}\n",
            "yes\n",
            "\n",
            "\n",
            "12時の気温は22.4\n",
            "\n",
            "\n",
            "wvuABC\n",
            "abcABC\n",
            "\n",
            "\n",
            "I conuld’t bileeve that I culod atlacluy udrntaesnd what I was reaindg : the pnnemaohel pwoer of the haumn mind .\n",
            "\n",
            "\n"
          ]
        }
      ]
    }
  ]
}